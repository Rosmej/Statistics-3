{
 "cells": [
  {
   "cell_type": "code",
   "execution_count": 1,
   "metadata": {},
   "outputs": [
    {
     "name": "stdout",
     "output_type": "stream",
     "text": [
      "set of data representing trees in California is 6219.9\n"
     ]
    }
   ],
   "source": [
    "import statistics \n",
    "  \n",
    "# Creating a sample of data \n",
    "trees  = [3, 21, 98, 203, 17, 9] \n",
    "  \n",
    "# Prints variance of the sample set \n",
    "  \n",
    "# Function will automatically calulate \n",
    "# it's mean and set it as xbar \n",
    "print(\"set of data representing trees in California is % s\" \n",
    "      %(statistics.variance(trees))) "
   ]
  },
  {
   "cell_type": "code",
   "execution_count": null,
   "metadata": {},
   "outputs": [],
   "source": []
  }
 ],
 "metadata": {
  "kernelspec": {
   "display_name": "Python 3",
   "language": "python",
   "name": "python3"
  },
  "language_info": {
   "codemirror_mode": {
    "name": "ipython",
    "version": 3
   },
   "file_extension": ".py",
   "mimetype": "text/x-python",
   "name": "python",
   "nbconvert_exporter": "python",
   "pygments_lexer": "ipython3",
   "version": "3.6.5"
  }
 },
 "nbformat": 4,
 "nbformat_minor": 2
}
