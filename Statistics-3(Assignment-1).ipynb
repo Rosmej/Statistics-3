{
 "cells": [
  {
   "cell_type": "code",
   "execution_count": 5,
   "metadata": {},
   "outputs": [
    {
     "name": "stdout",
     "output_type": "stream",
     "text": [
      "Standard Deviation of Rent Payments set is 367.9900360969936\n"
     ]
    }
   ],
   "source": [
    "import statistics \n",
    "  \n",
    "# creating a sample list \n",
    "rents = (1550, 1700, 900, 850, 1000, 950) \n",
    "  \n",
    "# calculating the mean of sample set \n",
    "m = statistics.mean(rents) \n",
    "  \n",
    "# xbar is nothing but stores  \n",
    "# the mean of the sample set \n",
    "  \n",
    "# calculating the variance of sample set \n",
    "print(\"Standard Deviation of Rent Payments set is % s\" \n",
    "         %(statistics.stdev(rents, xbar = m))) "
   ]
  },
  {
   "cell_type": "code",
   "execution_count": null,
   "metadata": {},
   "outputs": [],
   "source": []
  }
 ],
 "metadata": {
  "kernelspec": {
   "display_name": "Python 3",
   "language": "python",
   "name": "python3"
  },
  "language_info": {
   "codemirror_mode": {
    "name": "ipython",
    "version": 3
   },
   "file_extension": ".py",
   "mimetype": "text/x-python",
   "name": "python",
   "nbconvert_exporter": "python",
   "pygments_lexer": "ipython3",
   "version": "3.6.5"
  }
 },
 "nbformat": 4,
 "nbformat_minor": 2
}
